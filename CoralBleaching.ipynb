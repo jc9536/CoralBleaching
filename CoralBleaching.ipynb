{
 "cells": [
  {
   "attachments": {},
   "cell_type": "markdown",
   "metadata": {},
   "source": [
    "# Coral Bleaching\n",
    "## Predicting the Likelihood and Severity of Coral Reef Bleaching Events Based on Various Environmental Factors\n",
    "\n",
    "Authors: Jaimie Chin & Maro Aboelwafa  \n",
    "Course: DS.UA.301 - Advanced Topics in Data Science: Machine Learning for Climate Change  \n",
    "Date: 22 March 2023  "
   ]
  },
  {
   "attachments": {},
   "cell_type": "markdown",
   "metadata": {},
   "source": [
    "## Background\n",
    "The climate issue we are tackling is predicting the likelihood and severity of coral reef bleaching events based on various environmental factors. Coral reefs are sensitive to environmental changes such as temperature, salinity, nutrient levels and water acidity. When these factors reach certain thresholds, they  trigger coral bleaching, a process in which the coral expels the symbiotic algae that live on it, causing the coral to turn white and possibly die.\n",
    "\n",
    "To address this, we aim to use machine learning to analyze datasets of environmental data, such as water temperature to develop algorithms that can predict the likelihood and severity of coral bleaching events.\n",
    "\n",
    "### Data \n",
    "We will be using the Bleaching and environmental data for global coral reef sites (1980-2020) from the Biological & Chemical Oceanography Data Management Office. The data includes information on the presence and absence of coral bleaching, allowing comparative analyses and the determination of geographical bleaching thresholds, together with site exposure, distance to land, mean turbidity, cyclone frequency, and a suite of sea-surface temperature metrics at the times of survey. \n",
    "\n",
    "Data Server: [Bleaching and Environmental Data](http://dmoserv3.whoi.edu/jg/info/BCO-DMO/Coral_Reef_Brightspots/bleaching_and_env_data%7Bdir=dmoserv3.whoi.edu/jg/dir/BCO-DMO/Coral_Reef_Brightspots/,data=dmoserv3.bco-dmo.org:80/jg/serv/BCO-DMO/Coral_Reef_Brightspots/global_bleaching_environmental.brev0%7D?)\n"
   ]
  },
  {
   "attachments": {},
   "cell_type": "markdown",
   "metadata": {},
   "source": [
    "## Import Packages"
   ]
  },
  {
   "cell_type": "code",
   "execution_count": 19,
   "metadata": {},
   "outputs": [],
   "source": [
    "# Import packages & libraries \n",
    "import pandas as pd \n",
    "import numpy as np\n",
    "import seaborn as sns\n",
    "import matplotlib.pyplot as plt"
   ]
  },
  {
   "attachments": {},
   "cell_type": "markdown",
   "metadata": {},
   "source": [
    "## Load Dataset "
   ]
  },
  {
   "cell_type": "code",
   "execution_count": 20,
   "metadata": {},
   "outputs": [],
   "source": [
    "# Import Global Bleaching & Environmental Data \n",
    "data_path = \"data/global_bleaching_environmental.csv\"\n",
    "types = {'Distance_to_Shore': float, 'Turbidity': float, 'Percent_Bleaching': float}\n",
    "bleach_df = pd.read_csv(data_path, sep='\\s*[,]\\s*', engine='python', na_values=['nd'], dtype=types)"
   ]
  },
  {
   "cell_type": "code",
   "execution_count": 21,
   "metadata": {},
   "outputs": [
    {
     "data": {
      "text/html": [
       "<div>\n",
       "<style scoped>\n",
       "    .dataframe tbody tr th:only-of-type {\n",
       "        vertical-align: middle;\n",
       "    }\n",
       "\n",
       "    .dataframe tbody tr th {\n",
       "        vertical-align: top;\n",
       "    }\n",
       "\n",
       "    .dataframe thead th {\n",
       "        text-align: right;\n",
       "    }\n",
       "</style>\n",
       "<table border=\"1\" class=\"dataframe\">\n",
       "  <thead>\n",
       "    <tr style=\"text-align: right;\">\n",
       "      <th></th>\n",
       "      <th>Site_ID</th>\n",
       "      <th>Sample_ID</th>\n",
       "      <th>Data_Source</th>\n",
       "      <th>Latitude_Degrees</th>\n",
       "      <th>Longitude_Degrees</th>\n",
       "      <th>Ocean_Name</th>\n",
       "      <th>Reef_ID</th>\n",
       "      <th>Realm_Name</th>\n",
       "      <th>Ecoregion_Name</th>\n",
       "      <th>Country_Name</th>\n",
       "      <th>...</th>\n",
       "      <th>TSA_FrequencyMax</th>\n",
       "      <th>TSA_FrequencyMean</th>\n",
       "      <th>TSA_DHW</th>\n",
       "      <th>TSA_DHW_Standard_Deviation</th>\n",
       "      <th>TSA_DHWMax</th>\n",
       "      <th>TSA_DHWMean</th>\n",
       "      <th>Date</th>\n",
       "      <th>Site_Comments</th>\n",
       "      <th>Sample_Comments</th>\n",
       "      <th>Bleaching_Comments</th>\n",
       "    </tr>\n",
       "  </thead>\n",
       "  <tbody>\n",
       "    <tr>\n",
       "      <th>40354</th>\n",
       "      <td>8784</td>\n",
       "      <td>10316743</td>\n",
       "      <td>Reef_Check</td>\n",
       "      <td>25.0344</td>\n",
       "      <td>-80.3417</td>\n",
       "      <td>Atlantic</td>\n",
       "      <td>25N80W3</td>\n",
       "      <td>Tropical Atlantic</td>\n",
       "      <td>Bahamas and Florida Keys</td>\n",
       "      <td>United States</td>\n",
       "      <td>...</td>\n",
       "      <td>8.0</td>\n",
       "      <td>0.0</td>\n",
       "      <td>0.0</td>\n",
       "      <td>0.93</td>\n",
       "      <td>10.01</td>\n",
       "      <td>0.21</td>\n",
       "      <td>1997-06-28</td>\n",
       "      <td>NaN</td>\n",
       "      <td>NaN</td>\n",
       "      <td>NaN</td>\n",
       "    </tr>\n",
       "    <tr>\n",
       "      <th>30099</th>\n",
       "      <td>4584</td>\n",
       "      <td>10320198</td>\n",
       "      <td>Reef_Check</td>\n",
       "      <td>18.4246</td>\n",
       "      <td>-78.2508</td>\n",
       "      <td>Atlantic</td>\n",
       "      <td>78.15.050W.18.25.474N</td>\n",
       "      <td>Tropical Atlantic</td>\n",
       "      <td>Jamaica</td>\n",
       "      <td>Jamaica</td>\n",
       "      <td>...</td>\n",
       "      <td>8.0</td>\n",
       "      <td>1.0</td>\n",
       "      <td>0.0</td>\n",
       "      <td>1.14</td>\n",
       "      <td>7.22</td>\n",
       "      <td>0.37</td>\n",
       "      <td>2014-09-09</td>\n",
       "      <td>NaN</td>\n",
       "      <td>NaN</td>\n",
       "      <td>NaN</td>\n",
       "    </tr>\n",
       "    <tr>\n",
       "      <th>20254</th>\n",
       "      <td>8299</td>\n",
       "      <td>10321128</td>\n",
       "      <td>Reef_Check</td>\n",
       "      <td>9.4261</td>\n",
       "      <td>97.8970</td>\n",
       "      <td>Indian</td>\n",
       "      <td>97.53.49.3E.9.25.33.9N</td>\n",
       "      <td>Western Indo-Pacific</td>\n",
       "      <td>Andaman Sea</td>\n",
       "      <td>Thailand</td>\n",
       "      <td>...</td>\n",
       "      <td>6.0</td>\n",
       "      <td>1.0</td>\n",
       "      <td>0.0</td>\n",
       "      <td>1.20</td>\n",
       "      <td>8.27</td>\n",
       "      <td>0.41</td>\n",
       "      <td>2005-02-25</td>\n",
       "      <td>NaN</td>\n",
       "      <td>NaN</td>\n",
       "      <td>NaN</td>\n",
       "    </tr>\n",
       "    <tr>\n",
       "      <th>26559</th>\n",
       "      <td>181</td>\n",
       "      <td>10315050</td>\n",
       "      <td>Reef_Check</td>\n",
       "      <td>-27.4720</td>\n",
       "      <td>153.4099</td>\n",
       "      <td>Pacific</td>\n",
       "      <td>153.409936E.27.472029S</td>\n",
       "      <td>Temperate Australasia</td>\n",
       "      <td>Moreton Bay eastern Australia</td>\n",
       "      <td>Australia</td>\n",
       "      <td>...</td>\n",
       "      <td>8.0</td>\n",
       "      <td>1.0</td>\n",
       "      <td>0.0</td>\n",
       "      <td>1.90</td>\n",
       "      <td>13.10</td>\n",
       "      <td>0.62</td>\n",
       "      <td>2016-11-21</td>\n",
       "      <td>NaN</td>\n",
       "      <td>NaN</td>\n",
       "      <td>NaN</td>\n",
       "    </tr>\n",
       "    <tr>\n",
       "      <th>18137</th>\n",
       "      <td>7177</td>\n",
       "      <td>10319658</td>\n",
       "      <td>Reef_Check</td>\n",
       "      <td>10.0119</td>\n",
       "      <td>125.0156</td>\n",
       "      <td>Pacific</td>\n",
       "      <td>720938E.1107405N</td>\n",
       "      <td>Central Indo-Pacific</td>\n",
       "      <td>South-east Philippines</td>\n",
       "      <td>Philippines</td>\n",
       "      <td>...</td>\n",
       "      <td>11.0</td>\n",
       "      <td>2.0</td>\n",
       "      <td>0.0</td>\n",
       "      <td>1.91</td>\n",
       "      <td>14.86</td>\n",
       "      <td>0.78</td>\n",
       "      <td>2006-05-24</td>\n",
       "      <td>NaN</td>\n",
       "      <td>NaN</td>\n",
       "      <td>NaN</td>\n",
       "    </tr>\n",
       "  </tbody>\n",
       "</table>\n",
       "<p>5 rows × 62 columns</p>\n",
       "</div>"
      ],
      "text/plain": [
       "       Site_ID  Sample_ID Data_Source  Latitude_Degrees  Longitude_Degrees  \\\n",
       "40354     8784   10316743  Reef_Check           25.0344           -80.3417   \n",
       "30099     4584   10320198  Reef_Check           18.4246           -78.2508   \n",
       "20254     8299   10321128  Reef_Check            9.4261            97.8970   \n",
       "26559      181   10315050  Reef_Check          -27.4720           153.4099   \n",
       "18137     7177   10319658  Reef_Check           10.0119           125.0156   \n",
       "\n",
       "      Ocean_Name                 Reef_ID             Realm_Name  \\\n",
       "40354   Atlantic                 25N80W3      Tropical Atlantic   \n",
       "30099   Atlantic   78.15.050W.18.25.474N      Tropical Atlantic   \n",
       "20254     Indian  97.53.49.3E.9.25.33.9N   Western Indo-Pacific   \n",
       "26559    Pacific  153.409936E.27.472029S  Temperate Australasia   \n",
       "18137    Pacific        720938E.1107405N   Central Indo-Pacific   \n",
       "\n",
       "                      Ecoregion_Name   Country_Name  ... TSA_FrequencyMax  \\\n",
       "40354       Bahamas and Florida Keys  United States  ...              8.0   \n",
       "30099                        Jamaica        Jamaica  ...              8.0   \n",
       "20254                    Andaman Sea       Thailand  ...              6.0   \n",
       "26559  Moreton Bay eastern Australia      Australia  ...              8.0   \n",
       "18137         South-east Philippines    Philippines  ...             11.0   \n",
       "\n",
       "      TSA_FrequencyMean TSA_DHW  TSA_DHW_Standard_Deviation TSA_DHWMax  \\\n",
       "40354               0.0     0.0                        0.93      10.01   \n",
       "30099               1.0     0.0                        1.14       7.22   \n",
       "20254               1.0     0.0                        1.20       8.27   \n",
       "26559               1.0     0.0                        1.90      13.10   \n",
       "18137               2.0     0.0                        1.91      14.86   \n",
       "\n",
       "       TSA_DHWMean        Date  Site_Comments  Sample_Comments  \\\n",
       "40354         0.21  1997-06-28            NaN              NaN   \n",
       "30099         0.37  2014-09-09            NaN              NaN   \n",
       "20254         0.41  2005-02-25            NaN              NaN   \n",
       "26559         0.62  2016-11-21            NaN              NaN   \n",
       "18137         0.78  2006-05-24            NaN              NaN   \n",
       "\n",
       "       Bleaching_Comments  \n",
       "40354                 NaN  \n",
       "30099                 NaN  \n",
       "20254                 NaN  \n",
       "26559                 NaN  \n",
       "18137                 NaN  \n",
       "\n",
       "[5 rows x 62 columns]"
      ]
     },
     "execution_count": 21,
     "metadata": {},
     "output_type": "execute_result"
    }
   ],
   "source": [
    "# View sample of the data \n",
    "bleach_df.sample(5)"
   ]
  },
  {
   "attachments": {},
   "cell_type": "markdown",
   "metadata": {},
   "source": [
    "## Data Cleaning & Exploration\n",
    "* Attribute Information & Null values \n",
    "* Distributions of each attribute \n",
    "* Visualizations\n",
    "* Correlation Matrix \n"
   ]
  },
  {
   "cell_type": "code",
   "execution_count": 22,
   "metadata": {},
   "outputs": [
    {
     "data": {
      "text/plain": [
       "(41361, 62)"
      ]
     },
     "execution_count": 22,
     "metadata": {},
     "output_type": "execute_result"
    }
   ],
   "source": [
    "# Let's first see how large our dataset is for evaluation \n",
    "bleach_df.shape"
   ]
  },
  {
   "attachments": {},
   "cell_type": "markdown",
   "metadata": {},
   "source": [
    "### Feature Information & Null Values \n",
    "Let's observe our features to determine what could be used in our model analysis"
   ]
  },
  {
   "cell_type": "code",
   "execution_count": 23,
   "metadata": {},
   "outputs": [
    {
     "name": "stdout",
     "output_type": "stream",
     "text": [
      "<class 'pandas.core.frame.DataFrame'>\n",
      "RangeIndex: 41361 entries, 0 to 41360\n",
      "Data columns (total 62 columns):\n",
      " #   Column                                 Non-Null Count  Dtype  \n",
      "---  ------                                 --------------  -----  \n",
      " 0   Site_ID                                41361 non-null  int64  \n",
      " 1   Sample_ID                              41361 non-null  int64  \n",
      " 2   Data_Source                            41361 non-null  object \n",
      " 3   Latitude_Degrees                       41361 non-null  float64\n",
      " 4   Longitude_Degrees                      41361 non-null  float64\n",
      " 5   Ocean_Name                             41361 non-null  object \n",
      " 6   Reef_ID                                28821 non-null  object \n",
      " 7   Realm_Name                             41361 non-null  object \n",
      " 8   Ecoregion_Name                         41358 non-null  object \n",
      " 9   Country_Name                           41360 non-null  object \n",
      " 10  State_Island_Province_Name             41262 non-null  object \n",
      " 11  City_Town_Name                         40228 non-null  object \n",
      " 12  Site_Name                              6932 non-null   object \n",
      " 13  Distance_to_Shore                      41359 non-null  float64\n",
      " 14  Exposure                               41361 non-null  object \n",
      " 15  Turbidity                              41355 non-null  float64\n",
      " 16  Cyclone_Frequency                      41361 non-null  float64\n",
      " 17  Date_Day                               41361 non-null  int64  \n",
      " 18  Date_Month                             41361 non-null  int64  \n",
      " 19  Date_Year                              41361 non-null  int64  \n",
      " 20  Depth_m                                39562 non-null  float64\n",
      " 21  Substrate_Name                         28693 non-null  object \n",
      " 22  Percent_Cover                          28906 non-null  float64\n",
      " 23  Bleaching_Level                        22531 non-null  object \n",
      " 24  Percent_Bleaching                      34515 non-null  float64\n",
      " 25  ClimSST                                41248 non-null  float64\n",
      " 26  Temperature_Kelvin                     41213 non-null  float64\n",
      " 27  Temperature_Mean                       41229 non-null  float64\n",
      " 28  Temperature_Minimum                    41229 non-null  float64\n",
      " 29  Temperature_Maximum                    41229 non-null  float64\n",
      " 30  Temperature_Kelvin_Standard_Deviation  41229 non-null  float64\n",
      " 31  Windspeed                              41232 non-null  float64\n",
      " 32  SSTA                                   41213 non-null  float64\n",
      " 33  SSTA_Standard_Deviation                41229 non-null  float64\n",
      " 34  SSTA_Mean                              41229 non-null  float64\n",
      " 35  SSTA_Minimum                           41185 non-null  float64\n",
      " 36  SSTA_Maximum                           41229 non-null  float64\n",
      " 37  SSTA_Frequency                         41213 non-null  float64\n",
      " 38  SSTA_Frequency_Standard_Deviation      41229 non-null  float64\n",
      " 39  SSTA_FrequencyMax                      41229 non-null  float64\n",
      " 40  SSTA_FrequencyMean                     41229 non-null  float64\n",
      " 41  SSTA_DHW                               41213 non-null  float64\n",
      " 42  SSTA_DHW_Standard_Deviation            41229 non-null  float64\n",
      " 43  SSTA_DHWMax                            41229 non-null  float64\n",
      " 44  SSTA_DHWMean                           41229 non-null  float64\n",
      " 45  TSA                                    41213 non-null  float64\n",
      " 46  TSA_Standard_Deviation                 41229 non-null  float64\n",
      " 47  TSA_Minimum                            41229 non-null  float64\n",
      " 48  TSA_Maximum                            41229 non-null  float64\n",
      " 49  TSA_Mean                               41229 non-null  float64\n",
      " 50  TSA_Frequency                          41213 non-null  float64\n",
      " 51  TSA_Frequency_Standard_Deviation       41229 non-null  float64\n",
      " 52  TSA_FrequencyMax                       41229 non-null  float64\n",
      " 53  TSA_FrequencyMean                      41229 non-null  float64\n",
      " 54  TSA_DHW                                41213 non-null  float64\n",
      " 55  TSA_DHW_Standard_Deviation             41229 non-null  float64\n",
      " 56  TSA_DHWMax                             41229 non-null  float64\n",
      " 57  TSA_DHWMean                            41229 non-null  float64\n",
      " 58  Date                                   41361 non-null  object \n",
      " 59  Site_Comments                          2257 non-null   object \n",
      " 60  Sample_Comments                        2958 non-null   object \n",
      " 61  Bleaching_Comments                     2669 non-null   object \n",
      "dtypes: float64(41), int64(5), object(16)\n",
      "memory usage: 19.6+ MB\n"
     ]
    }
   ],
   "source": [
    "# Let's see out features and datatypes \n",
    "bleach_df.info()"
   ]
  },
  {
   "cell_type": "code",
   "execution_count": 24,
   "metadata": {},
   "outputs": [
    {
     "data": {
      "text/plain": [
       "Site_ID                   0\n",
       "Sample_ID                 0\n",
       "Data_Source               0\n",
       "Latitude_Degrees          0\n",
       "Longitude_Degrees         0\n",
       "                      ...  \n",
       "TSA_DHWMean             132\n",
       "Date                      0\n",
       "Site_Comments         39104\n",
       "Sample_Comments       38403\n",
       "Bleaching_Comments    38692\n",
       "Length: 62, dtype: int64"
      ]
     },
     "execution_count": 24,
     "metadata": {},
     "output_type": "execute_result"
    }
   ],
   "source": [
    "# Let's see our null values for each feature \n",
    "# Number of missing data within each attribute\n",
    "bleach_df.isna().sum()"
   ]
  },
  {
   "attachments": {},
   "cell_type": "markdown",
   "metadata": {},
   "source": [
    "## Feature Selection\n",
    "* Adding, Dropping Features of Importance \n",
    "* Encoding Features \n",
    "* Discard Unnecessary Features \n",
    "* Impute missing information if necessary"
   ]
  },
  {
   "cell_type": "markdown",
   "metadata": {},
   "source": []
  },
  {
   "attachments": {},
   "cell_type": "markdown",
   "metadata": {},
   "source": [
    "## Model Implementation\n",
    "* Random Forest\n",
    "* Gradient Boosting \n",
    "* ANN"
   ]
  },
  {
   "cell_type": "code",
   "execution_count": null,
   "metadata": {},
   "outputs": [],
   "source": []
  },
  {
   "attachments": {},
   "cell_type": "markdown",
   "metadata": {},
   "source": [
    "## Evaluation & Analysis \n",
    "* Accuracy\n",
    "* Precision\n",
    "* Recall\n",
    "* F1 score "
   ]
  },
  {
   "cell_type": "code",
   "execution_count": null,
   "metadata": {},
   "outputs": [],
   "source": []
  },
  {
   "attachments": {},
   "cell_type": "markdown",
   "metadata": {},
   "source": [
    "## Optimization\n",
    "* Cross-Validation\n",
    "* Grid-Search"
   ]
  },
  {
   "cell_type": "code",
   "execution_count": null,
   "metadata": {},
   "outputs": [],
   "source": []
  },
  {
   "attachments": {},
   "cell_type": "markdown",
   "metadata": {},
   "source": [
    "## Final Evaluation & Analysis\n",
    "* Accuracy\n",
    "* Precision\n",
    "* Recall\n",
    "* F1 score "
   ]
  },
  {
   "cell_type": "code",
   "execution_count": null,
   "metadata": {},
   "outputs": [],
   "source": []
  },
  {
   "attachments": {},
   "cell_type": "markdown",
   "metadata": {},
   "source": [
    "## Final Visualizations \n",
    "* Plot coral bleaching severity?"
   ]
  }
 ],
 "metadata": {
  "kernelspec": {
   "display_name": "base",
   "language": "python",
   "name": "python3"
  },
  "language_info": {
   "codemirror_mode": {
    "name": "ipython",
    "version": 3
   },
   "file_extension": ".py",
   "mimetype": "text/x-python",
   "name": "python",
   "nbconvert_exporter": "python",
   "pygments_lexer": "ipython3",
   "version": "3.9.12"
  },
  "orig_nbformat": 4
 },
 "nbformat": 4,
 "nbformat_minor": 2
}
