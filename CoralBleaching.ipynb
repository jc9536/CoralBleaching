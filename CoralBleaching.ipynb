{
 "cells": [
  {
   "attachments": {},
   "cell_type": "markdown",
   "metadata": {},
   "source": [
    "# Coral Bleaching\n",
    "## Predicting the Likelihood and Severity of Coral Reef Bleaching Events Based on Various Environmental Factors\n",
    "\n",
    "Authors: Jaimie Chin & Maro Aboelwafa  \n",
    "Course: DS.UA.301 - Advanced Topics in Data Science: Machine Learning for Climate Change  \n",
    "Date: 22 March 2023  "
   ]
  },
  {
   "attachments": {},
   "cell_type": "markdown",
   "metadata": {},
   "source": [
    "## Background\n",
    "The climate issue we are tackling is predicting the likelihood and severity of coral reef bleaching events based on various environmental factors. Coral reefs are sensitive to environmental changes such as temperature, salinity, nutrient levels and water acidity. When these factors reach certain thresholds, they  trigger coral bleaching, a process in which the coral expels the symbiotic algae that live on it, causing the coral to turn white and possibly die.\n",
    "\n",
    "To address this, we aim to use machine learning to analyze datasets of environmental data, such as water temperature to develop algorithms that can predict the likelihood and severity of coral bleaching events.\n",
    "\n",
    "### Data \n",
    "We will be using the Bleaching and environmental data for global coral reef sites (1980-2020) from the Biological & Chemical Oceanography Data Management Office. The data includes information on the presence and absence of coral bleaching, allowing comparative analyses and the determination of geographical bleaching thresholds, together with site exposure, distance to land, mean turbidity, cyclone frequency, and a suite of sea-surface temperature metrics at the times of survey. \n",
    "\n",
    "Data Server: [Bleaching and Environmental Data](http://dmoserv3.whoi.edu/jg/info/BCO-DMO/Coral_Reef_Brightspots/bleaching_and_env_data%7Bdir=dmoserv3.whoi.edu/jg/dir/BCO-DMO/Coral_Reef_Brightspots/,data=dmoserv3.bco-dmo.org:80/jg/serv/BCO-DMO/Coral_Reef_Brightspots/global_bleaching_environmental.brev0%7D?)\n"
   ]
  },
  {
   "attachments": {},
   "cell_type": "markdown",
   "metadata": {},
   "source": [
    "## Import Packages"
   ]
  },
  {
   "cell_type": "code",
   "execution_count": 2,
   "metadata": {},
   "outputs": [],
   "source": [
    "# Import packages & libraries \n",
    "import pandas as pd \n",
    "import numpy as np\n",
    "import seaborn as sns\n",
    "import matplotlib.pyplot as plt"
   ]
  },
  {
   "attachments": {},
   "cell_type": "markdown",
   "metadata": {},
   "source": [
    "## Load Dataset "
   ]
  },
  {
   "cell_type": "code",
   "execution_count": 3,
   "metadata": {},
   "outputs": [],
   "source": [
    "# Import Global Bleaching & Environmental Data \n",
    "data_path = \"data/global_bleaching_environmental.csv\"\n",
    "types = {'Distance_to_Shore': float, 'Turbidity': float, 'Percent_Bleaching': float}\n",
    "bleach_df = pd.read_csv(data_path, sep='\\s*[,]\\s*', engine='python', na_values=['nd'], dtype=types)"
   ]
  },
  {
   "cell_type": "code",
   "execution_count": 4,
   "metadata": {},
   "outputs": [
    {
     "data": {
      "text/html": [
       "<div>\n",
       "<style scoped>\n",
       "    .dataframe tbody tr th:only-of-type {\n",
       "        vertical-align: middle;\n",
       "    }\n",
       "\n",
       "    .dataframe tbody tr th {\n",
       "        vertical-align: top;\n",
       "    }\n",
       "\n",
       "    .dataframe thead th {\n",
       "        text-align: right;\n",
       "    }\n",
       "</style>\n",
       "<table border=\"1\" class=\"dataframe\">\n",
       "  <thead>\n",
       "    <tr style=\"text-align: right;\">\n",
       "      <th></th>\n",
       "      <th>Site_ID</th>\n",
       "      <th>Sample_ID</th>\n",
       "      <th>Data_Source</th>\n",
       "      <th>Latitude_Degrees</th>\n",
       "      <th>Longitude_Degrees</th>\n",
       "      <th>Ocean_Name</th>\n",
       "      <th>Reef_ID</th>\n",
       "      <th>Realm_Name</th>\n",
       "      <th>Ecoregion_Name</th>\n",
       "      <th>Country_Name</th>\n",
       "      <th>...</th>\n",
       "      <th>TSA_FrequencyMax</th>\n",
       "      <th>TSA_FrequencyMean</th>\n",
       "      <th>TSA_DHW</th>\n",
       "      <th>TSA_DHW_Standard_Deviation</th>\n",
       "      <th>TSA_DHWMax</th>\n",
       "      <th>TSA_DHWMean</th>\n",
       "      <th>Date</th>\n",
       "      <th>Site_Comments</th>\n",
       "      <th>Sample_Comments</th>\n",
       "      <th>Bleaching_Comments</th>\n",
       "    </tr>\n",
       "  </thead>\n",
       "  <tbody>\n",
       "    <tr>\n",
       "      <th>22223</th>\n",
       "      <td>999450</td>\n",
       "      <td>10330577</td>\n",
       "      <td>AGRRA</td>\n",
       "      <td>24.7126</td>\n",
       "      <td>-77.7477</td>\n",
       "      <td>Atlantic</td>\n",
       "      <td>NaN</td>\n",
       "      <td>Tropical Atlantic</td>\n",
       "      <td>Bahamas and Florida Keys</td>\n",
       "      <td>Bahamas</td>\n",
       "      <td>...</td>\n",
       "      <td>5.0</td>\n",
       "      <td>0.0</td>\n",
       "      <td>0.00</td>\n",
       "      <td>0.86</td>\n",
       "      <td>6.42</td>\n",
       "      <td>0.23</td>\n",
       "      <td>2002-04-22</td>\n",
       "      <td>NaN</td>\n",
       "      <td>NaN</td>\n",
       "      <td>NaN</td>\n",
       "    </tr>\n",
       "    <tr>\n",
       "      <th>34462</th>\n",
       "      <td>5686</td>\n",
       "      <td>10307930</td>\n",
       "      <td>Reef_Check</td>\n",
       "      <td>5.7539</td>\n",
       "      <td>103.0289</td>\n",
       "      <td>Pacific</td>\n",
       "      <td>103.1.44.07E.5.45.14.03N</td>\n",
       "      <td>Central Indo-Pacific</td>\n",
       "      <td>Sunda Shelf south-east Asia</td>\n",
       "      <td>Malaysia</td>\n",
       "      <td>...</td>\n",
       "      <td>9.5</td>\n",
       "      <td>1.0</td>\n",
       "      <td>1.08</td>\n",
       "      <td>1.20</td>\n",
       "      <td>9.86</td>\n",
       "      <td>0.40</td>\n",
       "      <td>2019-06-19</td>\n",
       "      <td>NaN</td>\n",
       "      <td>NaN</td>\n",
       "      <td>NaN</td>\n",
       "    </tr>\n",
       "    <tr>\n",
       "      <th>29902</th>\n",
       "      <td>1143</td>\n",
       "      <td>10313585</td>\n",
       "      <td>Reef_Check</td>\n",
       "      <td>-14.9302</td>\n",
       "      <td>145.6754</td>\n",
       "      <td>Pacific</td>\n",
       "      <td>145.40.523E.14.55.812S</td>\n",
       "      <td>Central Indo-Pacific</td>\n",
       "      <td>Central and northern Great Barrier Reef</td>\n",
       "      <td>Australia</td>\n",
       "      <td>...</td>\n",
       "      <td>5.0</td>\n",
       "      <td>1.0</td>\n",
       "      <td>1.06</td>\n",
       "      <td>1.21</td>\n",
       "      <td>7.71</td>\n",
       "      <td>0.48</td>\n",
       "      <td>2004-03-03</td>\n",
       "      <td>NaN</td>\n",
       "      <td>NaN</td>\n",
       "      <td>NaN</td>\n",
       "    </tr>\n",
       "    <tr>\n",
       "      <th>509</th>\n",
       "      <td>9127</td>\n",
       "      <td>10328458</td>\n",
       "      <td>Donner</td>\n",
       "      <td>24.9860</td>\n",
       "      <td>-80.4150</td>\n",
       "      <td>Atlantic</td>\n",
       "      <td>NaN</td>\n",
       "      <td>Tropical Atlantic</td>\n",
       "      <td>Bahamas and Florida Keys</td>\n",
       "      <td>United States</td>\n",
       "      <td>...</td>\n",
       "      <td>5.0</td>\n",
       "      <td>0.0</td>\n",
       "      <td>0.00</td>\n",
       "      <td>0.77</td>\n",
       "      <td>5.73</td>\n",
       "      <td>0.22</td>\n",
       "      <td>2005-09-15</td>\n",
       "      <td>NaN</td>\n",
       "      <td>NaN</td>\n",
       "      <td>NaN</td>\n",
       "    </tr>\n",
       "    <tr>\n",
       "      <th>17997</th>\n",
       "      <td>6922</td>\n",
       "      <td>10318228</td>\n",
       "      <td>Reef_Check</td>\n",
       "      <td>26.3739</td>\n",
       "      <td>56.4151</td>\n",
       "      <td>Arabian Gulf</td>\n",
       "      <td>56.24.54.28E.26.22.36.03N</td>\n",
       "      <td>Western Indo-Pacific</td>\n",
       "      <td>Gulf of Oman</td>\n",
       "      <td>Oman</td>\n",
       "      <td>...</td>\n",
       "      <td>6.0</td>\n",
       "      <td>1.0</td>\n",
       "      <td>1.88</td>\n",
       "      <td>1.60</td>\n",
       "      <td>13.18</td>\n",
       "      <td>0.47</td>\n",
       "      <td>2012-10-11</td>\n",
       "      <td>NaN</td>\n",
       "      <td>NaN</td>\n",
       "      <td>NaN</td>\n",
       "    </tr>\n",
       "  </tbody>\n",
       "</table>\n",
       "<p>5 rows × 62 columns</p>\n",
       "</div>"
      ],
      "text/plain": [
       "       Site_ID  Sample_ID Data_Source  Latitude_Degrees  Longitude_Degrees  \\\n",
       "22223   999450   10330577       AGRRA           24.7126           -77.7477   \n",
       "34462     5686   10307930  Reef_Check            5.7539           103.0289   \n",
       "29902     1143   10313585  Reef_Check          -14.9302           145.6754   \n",
       "509       9127   10328458      Donner           24.9860           -80.4150   \n",
       "17997     6922   10318228  Reef_Check           26.3739            56.4151   \n",
       "\n",
       "         Ocean_Name                    Reef_ID            Realm_Name  \\\n",
       "22223      Atlantic                        NaN     Tropical Atlantic   \n",
       "34462       Pacific   103.1.44.07E.5.45.14.03N  Central Indo-Pacific   \n",
       "29902       Pacific     145.40.523E.14.55.812S  Central Indo-Pacific   \n",
       "509        Atlantic                        NaN     Tropical Atlantic   \n",
       "17997  Arabian Gulf  56.24.54.28E.26.22.36.03N  Western Indo-Pacific   \n",
       "\n",
       "                                Ecoregion_Name   Country_Name  ...  \\\n",
       "22223                 Bahamas and Florida Keys        Bahamas  ...   \n",
       "34462              Sunda Shelf south-east Asia       Malaysia  ...   \n",
       "29902  Central and northern Great Barrier Reef      Australia  ...   \n",
       "509                   Bahamas and Florida Keys  United States  ...   \n",
       "17997                             Gulf of Oman           Oman  ...   \n",
       "\n",
       "      TSA_FrequencyMax TSA_FrequencyMean TSA_DHW  TSA_DHW_Standard_Deviation  \\\n",
       "22223              5.0               0.0    0.00                        0.86   \n",
       "34462              9.5               1.0    1.08                        1.20   \n",
       "29902              5.0               1.0    1.06                        1.21   \n",
       "509                5.0               0.0    0.00                        0.77   \n",
       "17997              6.0               1.0    1.88                        1.60   \n",
       "\n",
       "      TSA_DHWMax  TSA_DHWMean        Date  Site_Comments  Sample_Comments  \\\n",
       "22223       6.42         0.23  2002-04-22            NaN              NaN   \n",
       "34462       9.86         0.40  2019-06-19            NaN              NaN   \n",
       "29902       7.71         0.48  2004-03-03            NaN              NaN   \n",
       "509         5.73         0.22  2005-09-15            NaN              NaN   \n",
       "17997      13.18         0.47  2012-10-11            NaN              NaN   \n",
       "\n",
       "       Bleaching_Comments  \n",
       "22223                 NaN  \n",
       "34462                 NaN  \n",
       "29902                 NaN  \n",
       "509                   NaN  \n",
       "17997                 NaN  \n",
       "\n",
       "[5 rows x 62 columns]"
      ]
     },
     "execution_count": 4,
     "metadata": {},
     "output_type": "execute_result"
    }
   ],
   "source": [
    "# View sample of the data \n",
    "bleach_df.sample(5)"
   ]
  },
  {
   "attachments": {},
   "cell_type": "markdown",
   "metadata": {},
   "source": [
    "## Data Cleaning & Exploration\n",
    "* Attribute Information & Null values \n",
    "* Distributions of each attribute \n",
    "* Visualizations\n",
    "* Correlation Matrix \n"
   ]
  },
  {
   "cell_type": "code",
   "execution_count": 5,
   "metadata": {},
   "outputs": [
    {
     "data": {
      "text/plain": [
       "(41361, 62)"
      ]
     },
     "execution_count": 5,
     "metadata": {},
     "output_type": "execute_result"
    }
   ],
   "source": [
    "bleach_df.shape"
   ]
  },
  {
   "attachments": {},
   "cell_type": "markdown",
   "metadata": {},
   "source": [
    "## Feature Selection\n",
    "* Adding, Dropping Features of Importance \n",
    "* Encoding Features \n",
    "* Discard Unnecessary Features \n",
    "* Impute missing information if necessary"
   ]
  },
  {
   "cell_type": "markdown",
   "metadata": {},
   "source": []
  },
  {
   "attachments": {},
   "cell_type": "markdown",
   "metadata": {},
   "source": [
    "## Model Implementation\n",
    "* Random Forest\n",
    "* Gradient Boosting \n",
    "* ANN"
   ]
  },
  {
   "cell_type": "code",
   "execution_count": null,
   "metadata": {},
   "outputs": [],
   "source": []
  },
  {
   "attachments": {},
   "cell_type": "markdown",
   "metadata": {},
   "source": [
    "## Evaluation & Analysis \n",
    "* Accuracy\n",
    "* Precision\n",
    "* Recall\n",
    "* F1 score "
   ]
  },
  {
   "cell_type": "code",
   "execution_count": null,
   "metadata": {},
   "outputs": [],
   "source": []
  },
  {
   "attachments": {},
   "cell_type": "markdown",
   "metadata": {},
   "source": [
    "## Optimization\n",
    "* Cross-Validation\n",
    "* Grid-Search"
   ]
  },
  {
   "cell_type": "code",
   "execution_count": null,
   "metadata": {},
   "outputs": [],
   "source": []
  },
  {
   "attachments": {},
   "cell_type": "markdown",
   "metadata": {},
   "source": [
    "## Final Evaluation & Analysis\n",
    "* Accuracy\n",
    "* Precision\n",
    "* Recall\n",
    "* F1 score "
   ]
  },
  {
   "cell_type": "code",
   "execution_count": null,
   "metadata": {},
   "outputs": [],
   "source": []
  },
  {
   "attachments": {},
   "cell_type": "markdown",
   "metadata": {},
   "source": [
    "## Final Visualizations \n",
    "* Plot coral bleaching severity?"
   ]
  }
 ],
 "metadata": {
  "kernelspec": {
   "display_name": "base",
   "language": "python",
   "name": "python3"
  },
  "language_info": {
   "codemirror_mode": {
    "name": "ipython",
    "version": 3
   },
   "file_extension": ".py",
   "mimetype": "text/x-python",
   "name": "python",
   "nbconvert_exporter": "python",
   "pygments_lexer": "ipython3",
   "version": "3.9.12"
  },
  "orig_nbformat": 4
 },
 "nbformat": 4,
 "nbformat_minor": 2
}
