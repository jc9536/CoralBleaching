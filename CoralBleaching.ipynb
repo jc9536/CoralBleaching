{
 "cells": [
  {
   "attachments": {},
   "cell_type": "markdown",
   "metadata": {},
   "source": [
    "# Coral Bleaching\n",
    "## Predicting the Likelihood and Severity of Coral Reef Bleaching Events Based on Various Environmental Factors\n",
    "\n",
    "Authors: Jaimie Chin & Maro Aboelwafa  \n",
    "Course: DS.UA.301 - Advanced Topics in Data Science: Machine Learning for Climate Change  \n",
    "Date: 22 March 2023  "
   ]
  },
  {
   "attachments": {},
   "cell_type": "markdown",
   "metadata": {},
   "source": [
    "## Background\n",
    "The climate issue we are tackling is predicting the likelihood and severity of coral reef bleaching events based on various environmental factors. Coral reefs are sensitive to environmental changes such as temperature, salinity, nutrient levels and water acidity. When these factors reach certain thresholds, they  trigger coral bleaching, a process in which the coral expels the symbiotic algae that live on it, causing the coral to turn white and possibly die.\n",
    "\n",
    "To address this, we aim to use machine learning to analyze datasets of environmental data, such as water temperature to develop algorithms that can predict the likelihood and severity of coral bleaching events.\n",
    "\n",
    "### Data \n",
    "We will be using the Bleaching and environmental data for global coral reef sites (1980-2020) from the Biological & Chemical Oceanography Data Management Office. The data includes information on the presence and absence of coral bleaching, allowing comparative analyses and the determination of geographical bleaching thresholds, together with site exposure, distance to land, mean turbidity, cyclone frequency, and a suite of sea-surface temperature metrics at the times of survey. \n",
    "\n",
    "Data Server: [Bleaching and Environmental Data](http://dmoserv3.whoi.edu/jg/info/BCO-DMO/Coral_Reef_Brightspots/bleaching_and_env_data%7Bdir=dmoserv3.whoi.edu/jg/dir/BCO-DMO/Coral_Reef_Brightspots/,data=dmoserv3.bco-dmo.org:80/jg/serv/BCO-DMO/Coral_Reef_Brightspots/global_bleaching_environmental.brev0%7D?)\n"
   ]
  },
  {
   "attachments": {},
   "cell_type": "markdown",
   "metadata": {},
   "source": [
    "## Import Packages"
   ]
  },
  {
   "cell_type": "code",
   "execution_count": 1,
   "metadata": {},
   "outputs": [],
   "source": [
    "# Import packages & libraries \n",
    "import pandas as pd \n",
    "import numpy as np\n",
    "import seaborn as sns\n",
    "import matplotlib.pyplot as plt"
   ]
  },
  {
   "attachments": {},
   "cell_type": "markdown",
   "metadata": {},
   "source": [
    "## Load Dataset "
   ]
  },
  {
   "cell_type": "code",
   "execution_count": 18,
   "metadata": {},
   "outputs": [],
   "source": [
    "# Import Global Bleaching & Environmental Data \n",
    "data_path = \"data/global_bleaching_environmental.csv\"\n",
    "types = {'Distance_to_Shore': float, 'Turbidity': float, 'Percent_Bleaching': float}\n",
    "bleach_df = pd.read_csv(data_path, sep='\\s*[,]\\s*', engine='python', na_values=['nd'], dtype=types)"
   ]
  },
  {
   "cell_type": "code",
   "execution_count": 21,
   "metadata": {},
   "outputs": [
    {
     "data": {
      "text/html": [
       "<div>\n",
       "<style scoped>\n",
       "    .dataframe tbody tr th:only-of-type {\n",
       "        vertical-align: middle;\n",
       "    }\n",
       "\n",
       "    .dataframe tbody tr th {\n",
       "        vertical-align: top;\n",
       "    }\n",
       "\n",
       "    .dataframe thead th {\n",
       "        text-align: right;\n",
       "    }\n",
       "</style>\n",
       "<table border=\"1\" class=\"dataframe\">\n",
       "  <thead>\n",
       "    <tr style=\"text-align: right;\">\n",
       "      <th></th>\n",
       "      <th>Site_ID</th>\n",
       "      <th>Sample_ID</th>\n",
       "      <th>Data_Source</th>\n",
       "      <th>Latitude_Degrees</th>\n",
       "      <th>Longitude_Degrees</th>\n",
       "      <th>Ocean_Name</th>\n",
       "      <th>Reef_ID</th>\n",
       "      <th>Realm_Name</th>\n",
       "      <th>Ecoregion_Name</th>\n",
       "      <th>Country_Name</th>\n",
       "      <th>...</th>\n",
       "      <th>TSA_FrequencyMax</th>\n",
       "      <th>TSA_FrequencyMean</th>\n",
       "      <th>TSA_DHW</th>\n",
       "      <th>TSA_DHW_Standard_Deviation</th>\n",
       "      <th>TSA_DHWMax</th>\n",
       "      <th>TSA_DHWMean</th>\n",
       "      <th>Date</th>\n",
       "      <th>Site_Comments</th>\n",
       "      <th>Sample_Comments</th>\n",
       "      <th>Bleaching_Comments</th>\n",
       "    </tr>\n",
       "  </thead>\n",
       "  <tbody>\n",
       "    <tr>\n",
       "      <th>529</th>\n",
       "      <td>6400</td>\n",
       "      <td>10325615</td>\n",
       "      <td>Donner</td>\n",
       "      <td>20.0170</td>\n",
       "      <td>-87.4620</td>\n",
       "      <td>Atlantic</td>\n",
       "      <td>NaN</td>\n",
       "      <td>Tropical Atlantic</td>\n",
       "      <td>Belize and west Caribbean</td>\n",
       "      <td>Mexico</td>\n",
       "      <td>...</td>\n",
       "      <td>8.0</td>\n",
       "      <td>1.0</td>\n",
       "      <td>2.46</td>\n",
       "      <td>2.06</td>\n",
       "      <td>19.71</td>\n",
       "      <td>0.68</td>\n",
       "      <td>2005-08-15</td>\n",
       "      <td>NaN</td>\n",
       "      <td>NaN</td>\n",
       "      <td>NaN</td>\n",
       "    </tr>\n",
       "    <tr>\n",
       "      <th>2906</th>\n",
       "      <td>6485</td>\n",
       "      <td>10326802</td>\n",
       "      <td>Donner</td>\n",
       "      <td>18.6600</td>\n",
       "      <td>-87.7170</td>\n",
       "      <td>Atlantic</td>\n",
       "      <td>NaN</td>\n",
       "      <td>Tropical Atlantic</td>\n",
       "      <td>Belize and west Caribbean</td>\n",
       "      <td>Mexico</td>\n",
       "      <td>...</td>\n",
       "      <td>5.0</td>\n",
       "      <td>0.0</td>\n",
       "      <td>0.00</td>\n",
       "      <td>0.82</td>\n",
       "      <td>6.48</td>\n",
       "      <td>0.25</td>\n",
       "      <td>2005-08-15</td>\n",
       "      <td>NaN</td>\n",
       "      <td>NaN</td>\n",
       "      <td>NaN</td>\n",
       "    </tr>\n",
       "    <tr>\n",
       "      <th>36549</th>\n",
       "      <td>3859</td>\n",
       "      <td>10310555</td>\n",
       "      <td>Reef_Check</td>\n",
       "      <td>-8.7175</td>\n",
       "      <td>116.7714</td>\n",
       "      <td>Indian</td>\n",
       "      <td>116.46.17E.8.43.03S</td>\n",
       "      <td>Central Indo-Pacific</td>\n",
       "      <td>Lesser Sunda Islands and Savu Sea</td>\n",
       "      <td>Indonesia</td>\n",
       "      <td>...</td>\n",
       "      <td>20.0</td>\n",
       "      <td>2.0</td>\n",
       "      <td>3.67</td>\n",
       "      <td>1.91</td>\n",
       "      <td>14.46</td>\n",
       "      <td>0.72</td>\n",
       "      <td>2003-05-06</td>\n",
       "      <td>NaN</td>\n",
       "      <td>NaN</td>\n",
       "      <td>NaN</td>\n",
       "    </tr>\n",
       "    <tr>\n",
       "      <th>39296</th>\n",
       "      <td>6975</td>\n",
       "      <td>10321442</td>\n",
       "      <td>Reef_Check</td>\n",
       "      <td>9.5628</td>\n",
       "      <td>-79.6842</td>\n",
       "      <td>Atlantic</td>\n",
       "      <td>9N79W2</td>\n",
       "      <td>Tropical Atlantic</td>\n",
       "      <td>Belize and west Caribbean</td>\n",
       "      <td>Panama</td>\n",
       "      <td>...</td>\n",
       "      <td>13.0</td>\n",
       "      <td>1.0</td>\n",
       "      <td>1.04</td>\n",
       "      <td>1.70</td>\n",
       "      <td>12.31</td>\n",
       "      <td>0.52</td>\n",
       "      <td>1998-09-26</td>\n",
       "      <td>NaN</td>\n",
       "      <td>NaN</td>\n",
       "      <td>NaN</td>\n",
       "    </tr>\n",
       "    <tr>\n",
       "      <th>30134</th>\n",
       "      <td>5999</td>\n",
       "      <td>10307969</td>\n",
       "      <td>Reef_Check</td>\n",
       "      <td>5.2322</td>\n",
       "      <td>103.2603</td>\n",
       "      <td>Pacific</td>\n",
       "      <td>103.15.37E.5.13.56N</td>\n",
       "      <td>Central Indo-Pacific</td>\n",
       "      <td>Sunda Shelf south-east Asia</td>\n",
       "      <td>Malaysia</td>\n",
       "      <td>...</td>\n",
       "      <td>7.0</td>\n",
       "      <td>1.0</td>\n",
       "      <td>0.00</td>\n",
       "      <td>1.00</td>\n",
       "      <td>7.65</td>\n",
       "      <td>0.33</td>\n",
       "      <td>2010-09-28</td>\n",
       "      <td>NaN</td>\n",
       "      <td>NaN</td>\n",
       "      <td>NaN</td>\n",
       "    </tr>\n",
       "  </tbody>\n",
       "</table>\n",
       "<p>5 rows × 62 columns</p>\n",
       "</div>"
      ],
      "text/plain": [
       "       Site_ID  Sample_ID Data_Source  Latitude_Degrees  Longitude_Degrees  \\\n",
       "529       6400   10325615      Donner           20.0170           -87.4620   \n",
       "2906      6485   10326802      Donner           18.6600           -87.7170   \n",
       "36549     3859   10310555  Reef_Check           -8.7175           116.7714   \n",
       "39296     6975   10321442  Reef_Check            9.5628           -79.6842   \n",
       "30134     5999   10307969  Reef_Check            5.2322           103.2603   \n",
       "\n",
       "      Ocean_Name              Reef_ID            Realm_Name  \\\n",
       "529     Atlantic                  NaN     Tropical Atlantic   \n",
       "2906    Atlantic                  NaN     Tropical Atlantic   \n",
       "36549     Indian  116.46.17E.8.43.03S  Central Indo-Pacific   \n",
       "39296   Atlantic               9N79W2     Tropical Atlantic   \n",
       "30134    Pacific  103.15.37E.5.13.56N  Central Indo-Pacific   \n",
       "\n",
       "                          Ecoregion_Name Country_Name  ... TSA_FrequencyMax  \\\n",
       "529            Belize and west Caribbean       Mexico  ...              8.0   \n",
       "2906           Belize and west Caribbean       Mexico  ...              5.0   \n",
       "36549  Lesser Sunda Islands and Savu Sea    Indonesia  ...             20.0   \n",
       "39296          Belize and west Caribbean       Panama  ...             13.0   \n",
       "30134        Sunda Shelf south-east Asia     Malaysia  ...              7.0   \n",
       "\n",
       "      TSA_FrequencyMean TSA_DHW  TSA_DHW_Standard_Deviation TSA_DHWMax  \\\n",
       "529                 1.0    2.46                        2.06      19.71   \n",
       "2906                0.0    0.00                        0.82       6.48   \n",
       "36549               2.0    3.67                        1.91      14.46   \n",
       "39296               1.0    1.04                        1.70      12.31   \n",
       "30134               1.0    0.00                        1.00       7.65   \n",
       "\n",
       "       TSA_DHWMean        Date  Site_Comments  Sample_Comments  \\\n",
       "529           0.68  2005-08-15            NaN              NaN   \n",
       "2906          0.25  2005-08-15            NaN              NaN   \n",
       "36549         0.72  2003-05-06            NaN              NaN   \n",
       "39296         0.52  1998-09-26            NaN              NaN   \n",
       "30134         0.33  2010-09-28            NaN              NaN   \n",
       "\n",
       "       Bleaching_Comments  \n",
       "529                   NaN  \n",
       "2906                  NaN  \n",
       "36549                 NaN  \n",
       "39296                 NaN  \n",
       "30134                 NaN  \n",
       "\n",
       "[5 rows x 62 columns]"
      ]
     },
     "execution_count": 21,
     "metadata": {},
     "output_type": "execute_result"
    }
   ],
   "source": [
    "# View sample of the data \n",
    "bleach_df.sample(5)"
   ]
  },
  {
   "attachments": {},
   "cell_type": "markdown",
   "metadata": {},
   "source": [
    "## Data Cleaning & Exploration\n",
    "* Attribute Information & Null values \n",
    "* Distributions of each attribute \n",
    "* Visualizations\n",
    "* Correlation Matrix \n"
   ]
  },
  {
   "cell_type": "code",
   "execution_count": null,
   "metadata": {},
   "outputs": [],
   "source": []
  },
  {
   "attachments": {},
   "cell_type": "markdown",
   "metadata": {},
   "source": [
    "## Feature Selection\n",
    "* Adding, Dropping Features of Importance \n",
    "* Encoding Features \n",
    "* Discard Unnecessary Features \n",
    "* Impute missing information if necessary"
   ]
  },
  {
   "cell_type": "markdown",
   "metadata": {},
   "source": []
  },
  {
   "attachments": {},
   "cell_type": "markdown",
   "metadata": {},
   "source": [
    "## Model Implementation\n",
    "* Random Forest\n",
    "* Gradient Boosting \n",
    "* ANN"
   ]
  },
  {
   "cell_type": "code",
   "execution_count": null,
   "metadata": {},
   "outputs": [],
   "source": []
  },
  {
   "attachments": {},
   "cell_type": "markdown",
   "metadata": {},
   "source": [
    "## Evaluation & Analysis \n",
    "* Accuracy\n",
    "* Precision\n",
    "* Recall\n",
    "* F1 score "
   ]
  },
  {
   "cell_type": "code",
   "execution_count": null,
   "metadata": {},
   "outputs": [],
   "source": []
  },
  {
   "attachments": {},
   "cell_type": "markdown",
   "metadata": {},
   "source": [
    "## Optimization\n",
    "* Cross-Validation\n",
    "* Grid-Search"
   ]
  },
  {
   "cell_type": "code",
   "execution_count": null,
   "metadata": {},
   "outputs": [],
   "source": []
  },
  {
   "attachments": {},
   "cell_type": "markdown",
   "metadata": {},
   "source": [
    "## Final Evaluation & Analysis\n",
    "* Accuracy\n",
    "* Precision\n",
    "* Recall\n",
    "* F1 score "
   ]
  },
  {
   "cell_type": "code",
   "execution_count": null,
   "metadata": {},
   "outputs": [],
   "source": []
  },
  {
   "attachments": {},
   "cell_type": "markdown",
   "metadata": {},
   "source": [
    "## Final Visualizations \n",
    "* Plot coral bleaching severity?"
   ]
  }
 ],
 "metadata": {
  "kernelspec": {
   "display_name": "base",
   "language": "python",
   "name": "python3"
  },
  "language_info": {
   "codemirror_mode": {
    "name": "ipython",
    "version": 3
   },
   "file_extension": ".py",
   "mimetype": "text/x-python",
   "name": "python",
   "nbconvert_exporter": "python",
   "pygments_lexer": "ipython3",
   "version": "3.9.12"
  },
  "orig_nbformat": 4
 },
 "nbformat": 4,
 "nbformat_minor": 2
}
